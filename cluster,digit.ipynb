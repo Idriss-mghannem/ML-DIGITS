{
 "cells": [
  {
   "cell_type": "code",
   "execution_count": 19,
   "id": "bbed86c4-e605-4bac-960e-8e387a7ea642",
   "metadata": {},
   "outputs": [
    {
     "name": "stdout",
     "output_type": "stream",
     "text": [
      "[0 1 2 ... 8 9 8]\n",
      "x_test [ 0.  0.  1. 11. 12.  9.  5.  0.  0.  0. 14.  6.  1. 15. 10.  0.  0.  2.\n",
      " 12.  4. 12.  7. 10.  0.  0.  1. 13. 12.  3.  4.  8.  0.  0.  0.  0.  0.\n",
      "  0.  4.  8.  0.  0.  0.  3.  4.  0.  7.  6.  0.  0.  0. 12.  7.  3. 11.\n",
      "  0.  0.  0.  0.  3. 13. 15.  3.  0.  0.]\n",
      "------pred [2 7 3 ... 0 9 4]\n",
      "              precision    recall  f1-score   support\n",
      "\n",
      "           0       0.00      0.00      0.00       167\n",
      "           1       0.26      0.28      0.27       167\n",
      "           2       0.03      0.04      0.03       154\n",
      "           3       0.00      0.00      0.00       163\n",
      "           4       0.95      0.92      0.94       166\n",
      "           5       0.00      0.00      0.00       164\n",
      "           6       0.00      0.00      0.00       154\n",
      "           7       0.00      0.00      0.00       166\n",
      "           8       0.06      0.03      0.04       155\n",
      "           9       0.38      0.56      0.45       162\n",
      "\n",
      "    accuracy                           0.19      1618\n",
      "   macro avg       0.17      0.18      0.17      1618\n",
      "weighted avg       0.17      0.19      0.18      1618\n",
      "\n",
      "Score en pourcentage : 71.20%\n"
     ]
    },
    {
     "name": "stderr",
     "output_type": "stream",
     "text": [
      "C:\\Users\\DELL\\anaconda3\\Lib\\site-packages\\sklearn\\cluster\\_kmeans.py:1446: UserWarning: KMeans is known to have a memory leak on Windows with MKL, when there are less chunks than available threads. You can avoid it by setting the environment variable OMP_NUM_THREADS=1.\n",
      "  warnings.warn(\n"
     ]
    }
   ],
   "source": [
    "from sklearn.datasets import load_digits\n",
    "from sklearn.model_selection import train_test_split\n",
    "import matplotlib.pyplot as plt\n",
    "from sklearn import datasets\n",
    "from sklearn.cluster import KMeans\n",
    "from sklearn.metrics import classification_report\n",
    "\n",
    "digits = load_digits()\n",
    "n_samples = len(digits.images)\n",
    "#print(\"Number_of-examples = \", n_samples)\n",
    "#print(\"\\n Plot of first example\")\n",
    "#plt.gray()\n",
    "#plt.matshow(digits.images[0])\n",
    "#plt.show()\n",
    "# Flatten the images, to turn data in a (samples, feature) matrix:\n",
    "data = digits.images.reshape((n_samples, -1))\n",
    "X = data\n",
    "y = digits.target\n",
    "print(y) \n",
    "X_train, X_test, y_train, y_test = train_test_split(X, y, test_size=0.9)\n",
    "kmeans = KMeans(n_clusters=10).fit(X_train, y_train)\n",
    "\n",
    "\n",
    "y_true=digits.target\n",
    "print(\"x_test\",X_test[1]) \n",
    "pred = kmeans.predict(X_test)\n",
    "print(\"------pred\",pred)\n",
    "#print(\"ytest\",y_test)\n",
    "print(classification_report(y_test,pred))\n",
    "from sklearn.metrics import confusion_matrix\n",
    "from sklearn.metrics import accuracy_score\n",
    "from scipy.optimize import linear_sum_assignment\n",
    "conf_matrix = confusion_matrix(y_test, pred)\n",
    "\n",
    "# Trouver le meilleur alignement entre les clusters et les classes\n",
    "row_ind, col_ind = linear_sum_assignment(-conf_matrix)\n",
    "\n",
    "# Calculer le pourcentage correct\n",
    "correct_predictions = conf_matrix[row_ind, col_ind].sum()\n",
    "total_samples = len(y_test)\n",
    "accuracy = correct_predictions / total_samples * 100\n",
    "\n",
    "print(f\"Score en pourcentage : {accuracy:.2f}%\")"
   ]
  },
  {
   "cell_type": "code",
   "execution_count": null,
   "id": "e3690805-7297-42bd-950d-a604ca194345",
   "metadata": {},
   "outputs": [],
   "source": []
  },
  {
   "cell_type": "code",
   "execution_count": null,
   "id": "a778e8cd-e37d-4fb3-94c0-cd1943c367e9",
   "metadata": {},
   "outputs": [],
   "source": []
  },
  {
   "cell_type": "code",
   "execution_count": null,
   "id": "8245092a-d5e7-4183-b2af-117e7251ebbf",
   "metadata": {},
   "outputs": [],
   "source": []
  },
  {
   "cell_type": "code",
   "execution_count": null,
   "id": "69a7cd5e-9e5e-41ba-9d44-79e940ba7aab",
   "metadata": {},
   "outputs": [],
   "source": []
  },
  {
   "cell_type": "code",
   "execution_count": null,
   "id": "638af799-8c43-4590-a1da-7cfc990598ca",
   "metadata": {},
   "outputs": [],
   "source": []
  }
 ],
 "metadata": {
  "kernelspec": {
   "display_name": "Python 3 (ipykernel)",
   "language": "python",
   "name": "python3"
  },
  "language_info": {
   "codemirror_mode": {
    "name": "ipython",
    "version": 3
   },
   "file_extension": ".py",
   "mimetype": "text/x-python",
   "name": "python",
   "nbconvert_exporter": "python",
   "pygments_lexer": "ipython3",
   "version": "3.12.4"
  }
 },
 "nbformat": 4,
 "nbformat_minor": 5
}
